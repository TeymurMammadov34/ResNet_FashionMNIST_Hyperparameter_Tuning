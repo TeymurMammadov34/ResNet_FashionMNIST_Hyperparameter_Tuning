{
 "cells": [
  {
   "cell_type": "markdown",
   "id": "cbb0e3f8-a61f-4e6a-9990-093675b40441",
   "metadata": {},
   "source": [
    "# 📦 Kütüphanelerin İçe Aktarılması"
   ]
  },
  {
   "cell_type": "code",
   "execution_count": 1,
   "id": "f46ed26e-8bfc-4761-9d70-598bdc31fa57",
   "metadata": {},
   "outputs": [],
   "source": [
    "# 📦 Kütüphanelerin İçe Aktarılması\n",
    "\n",
    "# TensorFlow kütüphanesini içe aktarıyoruz.\n",
    "# Derin öğrenme modellerini oluşturmak, eğitmek ve değerlendirmek için kullanılır.\n",
    "import tensorflow as tf\n",
    "\n",
    "# Fashion MNIST veri setini içeren Keras modülünü içe aktarıyoruz.\n",
    "# Bu veri seti, giyim eşyalarına ait 28x28 boyutunda gri tonlamalı görüntüler içerir.\n",
    "from tensorflow.keras.datasets import fashion_mnist\n",
    "\n",
    "# Modelde kullanacağımız katmanları içe aktarıyoruz:\n",
    "# Conv2D - evrişimsel katman, BatchNormalization - normalizasyon katmanı,\n",
    "# Activation - aktivasyon fonksiyonu, Flatten - veriyi düzleştirme,\n",
    "# Dense - tam bağlantılı katman, Input - giriş tanımlayıcı, Add - katmanları toplama.\n",
    "from tensorflow.keras.layers import Conv2D, BatchNormalization, Activation, Flatten, Dense, Input, Add\n",
    "\n",
    "# Model sınıfını içe aktarıyoruz. Keras fonksiyonel API ile özel modeller inşa etmek için kullanılır.\n",
    "from tensorflow.keras.models import Model\n",
    "\n",
    "# Adam optimizasyon algoritmasını içe aktarıyoruz.\n",
    "# Derin öğrenme modellerinde sıkça kullanılan ve genellikle iyi sonuç veren bir optimizer’dır.\n",
    "from tensorflow.keras.optimizers import Adam\n",
    "\n",
    "# Sınıf etiketlerini one-hot encoding formatına dönüştürmek için kullanılır.\n",
    "from tensorflow.keras.utils import to_categorical\n",
    "\n",
    "# Keras Tuner'dan HyperModel ve RandomSearch sınıflarını içe aktarıyoruz.\n",
    "# Hiperparametre araması yapmak için kullanılır. HyperModel, modelin yapısını tanımlar,\n",
    "# RandomSearch ise çeşitli hiperparametre kombinasyonlarını deneyerek en iyisini bulur.\n",
    "from keras_tuner import HyperModel, RandomSearch"
   ]
  },
  {
   "cell_type": "markdown",
   "id": "c2d59467-d3f9-4082-afb9-6afa5c7ba18b",
   "metadata": {},
   "source": [
    "# 📊 Verinin Yüklenmesi ve Ön İşlenmesi"
   ]
  },
  {
   "cell_type": "code",
   "execution_count": 2,
   "id": "6b94e4e0-aeb2-438d-9b97-44c6e52c278d",
   "metadata": {},
   "outputs": [],
   "source": [
    "# Fashion MNIST veri setini yükleyip eğitim ve test verilerine ayırıyoruz.\n",
    "# train_images ve train_labels: Eğitim için kullanılacak görüntüler ve etiketler.\n",
    "# test_images ve test_labels: Modelin test edilmesi için kullanılacak veriler.\n",
    "(train_images, train_labels), (test_images, test_labels) = fashion_mnist.load_data()\n",
    "\n",
    "# Eğitim verilerindeki görüntüleri 4 boyutlu hale getiriyoruz (örnek sayısı, yükseklik, genişlik, kanal).\n",
    "# Ardından float32 formatına çevirip 255'e bölerek 0-1 arasında normalize ediyoruz.\n",
    "train_images = train_images.reshape(-1, 28, 28, 1).astype(\"float32\") / 255.0\n",
    "\n",
    "# Test verileri için de aynı yeniden şekillendirme ve normalize işlemi uygulanıyor.\n",
    "test_images = test_images.reshape(-1, 28, 28, 1).astype(\"float32\") / 255.0\n",
    "\n",
    "# Eğitim etiketlerini one-hot encoding formatına çeviriyoruz.\n",
    "# Örneğin; etiket \"3\" ise [0, 0, 0, 1, 0, 0, 0, 0, 0, 0] haline gelir.\n",
    "train_labels = to_categorical(train_labels, 10)\n",
    "\n",
    "# Aynı şekilde test etiketleri de one-hot encoding'e dönüştürülüyor.\n",
    "test_labels = to_categorical(test_labels, 10)"
   ]
  },
  {
   "cell_type": "markdown",
   "id": "87097e58-8db3-42a1-bb1b-0cd818b462be",
   "metadata": {},
   "source": [
    "# 🧱 Artık (Residual) Blok Fonksiyonu Tanımı"
   ]
  },
  {
   "cell_type": "code",
   "execution_count": 3,
   "id": "5c7e7c2e-e3e5-4b0b-9bf4-3c3850c1ff58",
   "metadata": {},
   "outputs": [],
   "source": [
    "# Bu fonksiyon, derin öğrenme modellerinde kullanılan bir residual (artık) blok yapısını tanımlar.\n",
    "# Amaç: Girdi ile öğrenilen çıktıyı toplamak (skip connection) ve böylece daha derin ağlarda\n",
    "# gradyanların kaybolma sorununu azaltmaktır.\n",
    "def residual_block(x, filters, kernel_size=3, stride=1):\n",
    "    \n",
    "    # shortcut değişkeni, girdiyi daha sonra eklemek için saklar.\n",
    "    shortcut = x\n",
    "\n",
    "    # İlk Conv2D katmanı: Görüntü filtresi uygulanır.\n",
    "    x = Conv2D(filters, kernel_size=kernel_size, strides=stride, padding=\"same\")(x)\n",
    "    x = BatchNormalization()(x)  # Normalizasyon uygulanır.\n",
    "    x = Activation(\"relu\")(x)    # Aktivasyon fonksiyonu olarak ReLU kullanılır.\n",
    "\n",
    "    # İkinci Conv2D katmanı: Aynı işlemler tekrarlanır.\n",
    "    x = Conv2D(filters, kernel_size=kernel_size, strides=stride, padding=\"same\")(x)\n",
    "    x = BatchNormalization()(x)\n",
    "    x = Activation(\"relu\")(x)\n",
    "\n",
    "    # Eğer giriş ve çıkış katmanlarının kanal (filter) sayısı farklıysa, shortcut da dönüştürülmelidir.\n",
    "    if shortcut.shape[-1] != filters:\n",
    "        shortcut = Conv2D(filters, kernel_size=1, strides=stride, padding=\"same\")(shortcut)\n",
    "        shortcut = BatchNormalization()(shortcut)\n",
    "        shortcut = Activation(\"relu\")(shortcut)\n",
    "\n",
    "    # Girdi (shortcut) ve işlenmiş çıktı toplanır.\n",
    "    x = Add()([x, shortcut])\n",
    "\n",
    "    # Son bir ReLU aktivasyonu uygulanır.\n",
    "    x = Activation(\"relu\")(x)\n",
    "\n",
    "    # Çıktı olarak residual blok döndürülür.\n",
    "    return x\n"
   ]
  },
  {
   "cell_type": "markdown",
   "id": "8a52f6d9-0070-4770-a35b-75646533f551",
   "metadata": {},
   "source": [
    "# 🧠ResNetModel Sınıfı (HyperModel ile Hyperparameter Tuning için)"
   ]
  },
  {
   "cell_type": "code",
   "execution_count": 4,
   "id": "f97c5142-5eab-4fa7-b7d1-4f435ecff013",
   "metadata": {},
   "outputs": [],
   "source": [
    "# Bu sınıf, Keras Tuner ile birlikte çalışmak üzere tanımlanmış özel bir model yapısıdır.\n",
    "# Amaç: Farklı hiperparametre kombinasyonlarıyla ResNet benzeri bir model oluşturmak.\n",
    "\n",
    "class ResNetModel(HyperModel):\n",
    "\n",
    "    # build metodu: Model mimarisi burada tanımlanır. Hiperparametreler burada alınır.\n",
    "    def build(self, hp):\n",
    "        \n",
    "        # Giriş katmanı: Girdi şekli Fashion MNIST datasına uygun (28x28x1)\n",
    "        inputs = Input(shape=[28, 28, 1])\n",
    "\n",
    "        # İlk konvolüsyonel katman: Hiperparametre olarak filtre sayısı belirlenir\n",
    "        x = Conv2D(\n",
    "            filters=hp.Int(\"initial_filters\", min_value=32, max_value=128, step=32),\n",
    "            kernel_size=3,\n",
    "            padding=\"same\",\n",
    "            activation=\"relu\"\n",
    "        )(inputs)\n",
    "        x = BatchNormalization()(x)  # Normalizasyon uygulanır\n",
    "\n",
    "        # Belirli sayıda residual block eklenir (1 ila 3 arasında)\n",
    "        for i in range(hp.Int(\"num_blocks\", min_value=1, max_value=3, step=1)):\n",
    "            # Her block için farklı filtre sayısı seçilir\n",
    "            x = residual_block(\n",
    "                x,\n",
    "                hp.Int(\"res_filters\" + str(i), min_value=32, max_value=128, step=32)\n",
    "            )\n",
    "\n",
    "        # Özellikler düzleştirilir ve yoğun katmanlara geçilir\n",
    "        x = Flatten()(x)\n",
    "        x = Dense(128, activation=\"relu\")(x)  # Gizli katman\n",
    "        outputs = Dense(10, activation=\"softmax\")(x)  # Çıkış katmanı (10 sınıf için)\n",
    "\n",
    "        # Model oluşturulur\n",
    "        model = Model(inputs, outputs)\n",
    "\n",
    "        # Model derlenir: Öğrenme oranı hiperparametre olarak verilir\n",
    "        model.compile(\n",
    "            optimizer=Adam(hp.Float(\"learning_rate\", min_value=1e-4, max_value=1e-2, sampling=\"LOG\")),\n",
    "            loss=\"categorical_crossentropy\",\n",
    "            metrics=[\"accuracy\"]\n",
    "        )\n",
    "\n",
    "        return model"
   ]
  },
  {
   "cell_type": "markdown",
   "id": "5c0bdc5c-0ab0-4636-9551-67129b64631a",
   "metadata": {},
   "source": [
    "# 🚀 Model Taraması (Hyperparameter Tuning)"
   ]
  },
  {
   "cell_type": "code",
   "execution_count": 5,
   "id": "f8d96656-cf46-48c7-aefa-3f0c0a68af7d",
   "metadata": {},
   "outputs": [
    {
     "name": "stdout",
     "output_type": "stream",
     "text": [
      "Reloading Tuner from Resnet_Hyperparameter_Tuning_Directory\\resnet_model_tuning\\tuner0.json\n"
     ]
    }
   ],
   "source": [
    "# Bu aşamada Keras Tuner kullanılarak modelin en iyi hiperparametre kombinasyonu aranır.\n",
    "\n",
    "tuner = RandomSearch(\n",
    "    ResNetModel(),                          # Kullanılacak model sınıfı (HyperModel)\n",
    "    objective=\"val_accuracy\",              # Hedeflenen metrik: doğruluk (validation datası üzerinde)\n",
    "    max_trials=2,                          # Denenecek farklı hiperparametre kombinasyonu sayısı\n",
    "    executions_per_trial=1,               # Her deneme için kaç kez eğitileceği\n",
    "    directory=\"Resnet_Hyperparameter_Tuning_Directory\",  # Kayıt dizini\n",
    "    project_name=\"resnet_model_tuning\"     # Proje adı (alt klasör olarak oluşturulur)\n",
    ")\n",
    "\n",
    "# Model taraması başlatılır\n",
    "tuner.search(\n",
    "    train_images,                          # Eğitim görüntüleri\n",
    "    train_labels,                          # Eğitim etiketleri\n",
    "    epochs=1,                              # Her model için epoch sayısı\n",
    "    validation_data=(test_images, test_labels)  # Doğrulama verisi\n",
    ")"
   ]
  },
  {
   "cell_type": "markdown",
   "id": "fcc68644-cca4-4deb-920c-39857a79ea4f",
   "metadata": {},
   "source": [
    "# 🏆 En İyi Modelin Seçilmesi\n"
   ]
  },
  {
   "cell_type": "code",
   "execution_count": 6,
   "id": "a72a87e8-b387-49ca-b765-88c6f9cda227",
   "metadata": {},
   "outputs": [
    {
     "name": "stdout",
     "output_type": "stream",
     "text": [
      "WARNING:tensorflow:From C:\\Users\\Teymur Mammadov\\anaconda3\\Lib\\site-packages\\keras\\src\\backend\\common\\global_state.py:82: The name tf.reset_default_graph is deprecated. Please use tf.compat.v1.reset_default_graph instead.\n",
      "\n"
     ]
    },
    {
     "name": "stderr",
     "output_type": "stream",
     "text": [
      "C:\\Users\\Teymur Mammadov\\anaconda3\\Lib\\site-packages\\keras\\src\\saving\\saving_lib.py:757: UserWarning: Skipping variable loading for optimizer 'adam', because it has 2 variables whereas the saved optimizer has 42 variables. \n",
      "  saveable.load_own_variables(weights_store.get(inner_path))\n"
     ]
    }
   ],
   "source": [
    "best_model = tuner.get_best_models(num_models=1)[0]"
   ]
  },
  {
   "cell_type": "markdown",
   "id": "955c0593-74d3-4207-8d93-a61d1b5cf849",
   "metadata": {},
   "source": [
    "# 📊Modelin Test Verisi Üzerinde Değerlendirilmesi"
   ]
  },
  {
   "cell_type": "code",
   "execution_count": 7,
   "id": "58768007-1477-4217-8a38-fe7fa947c7c4",
   "metadata": {},
   "outputs": [
    {
     "name": "stdout",
     "output_type": "stream",
     "text": [
      "\u001b[1m313/313\u001b[0m \u001b[32m━━━━━━━━━━━━━━━━━━━━\u001b[0m\u001b[37m\u001b[0m \u001b[1m24s\u001b[0m 71ms/step - accuracy: 0.8839 - loss: 0.3287\n",
      "Test loss: 0.33, Test accuracy: 0.88\n"
     ]
    }
   ],
   "source": [
    "# Eğitilen ve hiperparametreleri optimize edilen modelin, daha önce hiç görmediği test verisi üzerindeki performansı ölçülür.\n",
    "\n",
    "test_loss, test_accuracy = best_model.evaluate(test_images, test_labels)\n",
    "# evaluate() fonksiyonu, test verilerini kullanarak modelin kaybını (loss) ve doğruluk oranını (accuracy) döner.\n",
    "\n",
    "print(f\"Test loss: {test_loss:.2f}, Test accuracy: {test_accuracy:.2f}\")\n",
    "# Test sonuçları iki ondalık basamakla yazdırılır."
   ]
  }
 ],
 "metadata": {
  "kernelspec": {
   "display_name": "Python 3 (ipykernel)",
   "language": "python",
   "name": "python3"
  },
  "language_info": {
   "codemirror_mode": {
    "name": "ipython",
    "version": 3
   },
   "file_extension": ".py",
   "mimetype": "text/x-python",
   "name": "python",
   "nbconvert_exporter": "python",
   "pygments_lexer": "ipython3",
   "version": "3.12.3"
  }
 },
 "nbformat": 4,
 "nbformat_minor": 5
}
